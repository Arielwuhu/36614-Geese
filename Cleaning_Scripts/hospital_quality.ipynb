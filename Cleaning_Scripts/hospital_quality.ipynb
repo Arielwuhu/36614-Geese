{
 "cells": [
  {
   "cell_type": "code",
   "execution_count": 65,
   "id": "89cd346e",
   "metadata": {},
   "outputs": [
    {
     "data": {
      "text/plain": [
       "'\\nPython script to clean, process, and insert \\nthe Hospital Quality data into our SQL data tables.\\n'"
      ]
     },
     "execution_count": 65,
     "metadata": {},
     "output_type": "execute_result"
    }
   ],
   "source": [
    "\"\"\"\n",
    "Python script to clean, process, and insert \n",
    "the Hospital Quality data into our SQL data tables.\n",
    "\"\"\"\n",
    "import numpy as np\n",
    "import pandas as pd\n",
    "import sys\n",
    "import datetime\n",
    "import psycopg\n",
    "from IPython.core.interactiveshell import InteractiveShell\n",
    "InteractiveShell.ast_node_interactivity = \"all\""
   ]
  },
  {
   "cell_type": "markdown",
   "id": "c1517c7f",
   "metadata": {},
   "source": [
    "## 1. Read data"
   ]
  },
  {
   "cell_type": "code",
   "execution_count": 67,
   "id": "4861252d",
   "metadata": {},
   "outputs": [],
   "source": [
    "# Just use my own path?\n",
    "path = \"/Users/wangyicheng/Documents/GitHub/36614-Geese/Data/Quality/\"\n",
    "\n",
    "# info1 = pd.read_csv(path+sys.argv[2])\n",
    "info1 = pd.read_csv(path+\"Hospital_General_Information-2021-07.csv\")"
   ]
  },
  {
   "cell_type": "markdown",
   "id": "fc32cc0c",
   "metadata": {},
   "source": [
    "## 2. Preprocess data"
   ]
  },
  {
   "cell_type": "code",
   "execution_count": 68,
   "id": "138f65d5",
   "metadata": {},
   "outputs": [],
   "source": [
    "# Replace 'Not Available' value to NaN\n",
    "info1 = info1.replace('Not Available', np.nan)"
   ]
  },
  {
   "cell_type": "code",
   "execution_count": 69,
   "id": "ee16cb5e",
   "metadata": {},
   "outputs": [],
   "source": [
    "## Insert date column as python date object\n",
    "date = '2022-01-01'\n",
    "# date = date.split('-')\n",
    "# x = datetime.date(int(date[0]), int(date[1]), int(date[2]))\n",
    "# date = x.strftime(\"%Y-%m-%d\")\n",
    "# type(date)"
   ]
  },
  {
   "cell_type": "code",
   "execution_count": 70,
   "id": "327a19e7",
   "metadata": {},
   "outputs": [],
   "source": [
    "info1['Rating year'] = date"
   ]
  },
  {
   "cell_type": "markdown",
   "id": "aa91bb7b",
   "metadata": {},
   "source": [
    "## 3. Load data into psql"
   ]
  },
  {
   "cell_type": "code",
   "execution_count": 71,
   "id": "2ffff0db",
   "metadata": {},
   "outputs": [],
   "source": [
    "# Connect to psql server\n",
    "conn = psycopg.connect(\n",
    "    host=\"sculptor.stat.cmu.edu\", dbname=\"yicheng6\",\n",
    "    user=\"yicheng6\", password=\"Oor4cah8p\"\n",
    ")\n",
    "cur = conn.cursor()"
   ]
  },
  {
   "cell_type": "markdown",
   "id": "821ceddc",
   "metadata": {},
   "source": [
    "#### 3.1 Hospital_Info(hospital_pk, name, address, city, state, zip_code, ownership, emergency)\n",
    "\n",
    "CREATE TABLE Hospital_Info(\\\n",
    "\thospital_pk varchar(255) UNIQUE PRIMARY KEY,\\\n",
    "\tname text, \\\n",
    "\taddress text,\\\n",
    "\tcity text,\\\n",
    "\tstate char(2),\\\n",
    "\tzip_code varchar(5),\\\n",
    "      county text,\\\n",
    "\townership text,\\\n",
    "\temergency boolean DEFAULT false);\n",
    "\n"
   ]
  },
  {
   "cell_type": "code",
   "execution_count": 72,
   "id": "7f123d3c",
   "metadata": {},
   "outputs": [
    {
     "data": {
      "text/plain": [
       "Facility ID           string\n",
       "Facility Name         string\n",
       "Address               string\n",
       "City                  string\n",
       "State                 string\n",
       "ZIP Code              string\n",
       "Hospital Ownership    string\n",
       "Emergency Services      bool\n",
       "dtype: object"
      ]
     },
     "execution_count": 72,
     "metadata": {},
     "output_type": "execute_result"
    }
   ],
   "source": [
    "# Create a seperate table containing useful columns\n",
    "info_table = info1.loc[:,['Facility ID', 'Facility Name', 'Address', 'City',\\\n",
    "                          'State', 'ZIP Code', 'Hospital Ownership', 'Emergency Services']]\n",
    "\n",
    "# Change the data type\n",
    "info_table[\"Facility ID\"] = info_table[\"Facility ID\"].astype('string')\n",
    "info_table[\"Facility Name\"] = info_table[\"Facility Name\"].astype('string')\n",
    "info_table[\"Address\"] = info_table[\"Address\"].astype('string')\n",
    "info_table[\"City\"] = info_table[\"City\"].astype('string')\n",
    "info_table[\"State\"] = info_table[\"State\"].astype('string')\n",
    "info_table[\"ZIP Code\"] = info_table[\"ZIP Code\"].astype('string')\n",
    "info_table[\"Hospital Ownership\"] = info_table[\"Hospital Ownership\"].astype('string')\n",
    "info_table[\"Emergency Services\"] = info_table[\"Emergency Services\"].astype('bool')\n",
    "info_table.dtypes"
   ]
  },
  {
   "cell_type": "code",
   "execution_count": 73,
   "id": "2d2ae778",
   "metadata": {},
   "outputs": [],
   "source": [
    "# Container to record insert failed row\n",
    "key = ['Facility ID', 'Facility Name', 'Address', 'City',\\\n",
    "       'State', 'ZIP Code', 'Hospital Ownership', 'Emergency Services']\n",
    "df_error = pd.DataFrame(columns=key)"
   ]
  },
  {
   "cell_type": "code",
   "execution_count": null,
   "id": "751ea4a0",
   "metadata": {},
   "outputs": [],
   "source": [
    "num_rows_inserted = 0\n",
    "\n",
    "# make a new transaction\n",
    "with conn.transaction():\n",
    "    \n",
    "    for index, row in info_table.iterrows():\n",
    "        try:\n",
    "            # make a new SAVEPOINT -- like a save in a video game\n",
    "            cur.execute(\"SAVEPOINT save1\")\n",
    "            with conn.transaction():  \n",
    "                # now insert  (hospital_pk, rating_year, rating) into the data\n",
    "                insert = (\"INSERT INTO Hospital_Info \"\n",
    "                          \"VALUES (%s, %s, %s, %s, %s, %s, %s, %s)\")\n",
    "                cur.execute(insert, tuple(row))\n",
    "        except Exception as e:\n",
    "            # if an exception/error happens in this block, Postgres goes back to\n",
    "            # the last savepoint upon exiting the `with` block\n",
    "            print(\"insert failed in row \" + str(index))\n",
    "            df_error = pd.concat([df_error, row])\n",
    "\n",
    "            # add additional logging, error handling here\n",
    "        else:\n",
    "            # no exception happened, so we continue without reverting the savepoint\n",
    "            num_rows_inserted += 1\n",
    "            \n",
    "    print('Inserted ' + str(num_rows_inserted) + ' rows for Hospital_Info table.')\n",
    "    df_error.to_csv(\"Error_row_hospitalinfo.csv\", index = False)\n",
    "\n",
    "# now we commit the entire transaction\n",
    "conn.commit()"
   ]
  },
  {
   "cell_type": "markdown",
   "id": "4facc90e",
   "metadata": {},
   "source": [
    "#### 3.2 Rating(hospital_pk, rating_year, rating)\n",
    "\n",
    "CREATE TABLE Rating(\\\n",
    "\thospital_pk varchar(255) REFERENCES Hospital_Info,\\\n",
    "\trating_year date CHECK (rating_year <= current_date),\\\n",
    "\trating int CHECK (rating >= 0));"
   ]
  },
  {
   "cell_type": "code",
   "execution_count": 75,
   "id": "98cff773",
   "metadata": {},
   "outputs": [
    {
     "data": {
      "text/plain": [
       "Facility ID                        string\n",
       "Hospital overall rating             Int64\n",
       "Rating year                datetime64[ns]\n",
       "dtype: object"
      ]
     },
     "execution_count": 75,
     "metadata": {},
     "output_type": "execute_result"
    }
   ],
   "source": [
    "# Create a seperate table containing useful columns\n",
    "rate_table = info1.loc[:,[\"Facility ID\",\"Hospital overall rating\", \"Rating year\"]]\n",
    "rate_table[\"Facility ID\"] = rate_table[\"Facility ID\"].astype('string')\n",
    "rate_table[\"Hospital overall rating\"] = rate_table[\"Hospital overall rating\"].astype('Int64')\n",
    "rate_table['Rating year'] = pd.to_datetime(rate_table['Rating year'], format=\"%Y-%m-%d\")\n",
    "rate_table.dtypes"
   ]
  },
  {
   "cell_type": "code",
   "execution_count": 76,
   "id": "2f33e184",
   "metadata": {},
   "outputs": [],
   "source": [
    "# Container to record insert failed row\n",
    "key = [\"hospital_pk\",\"Hospital overall rating\", \"Rating year\"]\n",
    "df_error = pd.DataFrame(columns=key)"
   ]
  },
  {
   "cell_type": "code",
   "execution_count": 84,
   "id": "4f958775",
   "metadata": {},
   "outputs": [],
   "source": [
    "num_rows_inserted = 0\n",
    "\n",
    "# make a new transaction\n",
    "with conn.transaction():\n",
    "    \n",
    "    for index, row in rate_table.iterrows():\n",
    "        try:\n",
    "            # make a new SAVEPOINT -- like a save in a video game\n",
    "            cur.execute(\"SAVEPOINT save1\")\n",
    "            with conn.transaction():  \n",
    "                # now insert  (hospital_pk, rating_year, rating) into the data\n",
    "                insert = (\"INSERT INTO Rating \"\n",
    "                          \"VALUES (%(hospital_pk)s, %(rating)s, %(rating_year)s)\"\n",
    "                          \"ON CONFLICT (hospital_pk) DO UPDATE \"\n",
    "                          \"SET rating = %(rating)s, rating_year = %(rating_year)s\")\n",
    "                \n",
    "                cur.execute(insert, {\n",
    "                    \"hospital_pk\": row['Facility ID'],\n",
    "                    \"rating\": row['Hospital overall rating'],\n",
    "                    \"rating_year\": row['Rating year']\n",
    "                })\n",
    "        except Exception as e:\n",
    "            # if an exception/error happens in this block, Postgres goes back to\n",
    "            # the last savepoint upon exiting the `with` block\n",
    "            print(\"insert failed in row \" + str(index))\n",
    "            df_error = pd.concat([df_error, row])\n",
    "\n",
    "            # add additional logging, error handling here\n",
    "        else:\n",
    "            # no exception happened, so we continue without reverting the savepoint\n",
    "            num_rows_inserted += 1\n",
    "\n",
    "    print('Inserted ' + str(num_rows_inserted) + ' rows for Rating_Time table.')\n",
    "    df_error.to_csv(\"Error_row_ratingtime.csv\", index = False)\n",
    "\n",
    "# now we commit the entire transaction\n",
    "conn.commit()"
   ]
  },
  {
   "cell_type": "code",
   "execution_count": null,
   "id": "b1a66d34",
   "metadata": {},
   "outputs": [],
   "source": []
  }
 ],
 "metadata": {
  "kernelspec": {
   "display_name": "Python 3 (ipykernel)",
   "language": "python",
   "name": "python3"
  },
  "language_info": {
   "codemirror_mode": {
    "name": "ipython",
    "version": 3
   },
   "file_extension": ".py",
   "mimetype": "text/x-python",
   "name": "python",
   "nbconvert_exporter": "python",
   "pygments_lexer": "ipython3",
   "version": "3.8.5"
  }
 },
 "nbformat": 4,
 "nbformat_minor": 5
}
