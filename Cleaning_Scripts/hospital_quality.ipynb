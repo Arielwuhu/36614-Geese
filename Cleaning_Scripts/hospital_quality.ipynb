{
 "cells": [
  {
   "cell_type": "code",
   "execution_count": 2,
   "id": "89cd346e",
   "metadata": {},
   "outputs": [],
   "source": [
    "import numpy as np\n",
    "import pandas as pd\n",
    "import sys\n",
    "import datetime\n",
    "import psycopg\n",
    "from IPython.core.interactiveshell import InteractiveShell\n",
    "InteractiveShell.ast_node_interactivity = \"all\""
   ]
  },
  {
   "cell_type": "markdown",
   "id": "c1517c7f",
   "metadata": {},
   "source": [
    "## 1. Read data"
   ]
  },
  {
   "cell_type": "code",
   "execution_count": 5,
   "id": "4861252d",
   "metadata": {},
   "outputs": [],
   "source": [
    "# Just use my own path?\n",
    "path = \"/Users/wangyicheng/Documents/GitHub/36614-Geese/Data/Quality/\"\n",
    "\n",
    "# info1 = pd.read_csv(path+sys.argv[2])\n",
    "info1 = pd.read_csv(path+\"Hospital_General_Information-2021-07.csv\")"
   ]
  },
  {
   "cell_type": "markdown",
   "id": "fc32cc0c",
   "metadata": {},
   "source": [
    "## 2. Preprocess data"
   ]
  },
  {
   "cell_type": "code",
   "execution_count": 6,
   "id": "138f65d5",
   "metadata": {},
   "outputs": [],
   "source": [
    "# Replace 'Not Available' value to NaN\n",
    "info1 = info1.replace('Not Available', np.nan)"
   ]
  },
  {
   "cell_type": "code",
   "execution_count": 48,
   "id": "ee16cb5e",
   "metadata": {},
   "outputs": [],
   "source": [
    "## Insert date column as python date object\n",
    "date = '2022-01-01'\n",
    "# date = date.split('-')\n",
    "# x = datetime.date(int(date[0]), int(date[1]), int(date[2]))\n",
    "# date = x.strftime(\"%Y-%m-%d\")\n",
    "# type(date)"
   ]
  },
  {
   "cell_type": "code",
   "execution_count": 49,
   "id": "327a19e7",
   "metadata": {},
   "outputs": [],
   "source": [
    "info1['Rating year'] = date\n",
    "rate_table = info1.loc[:,[\"Facility ID\",\"Hospital overall rating\", \"Rating year\"]]"
   ]
  },
  {
   "cell_type": "code",
   "execution_count": 83,
   "id": "98cff773",
   "metadata": {},
   "outputs": [],
   "source": [
    "rate_table[\"Facility ID\"] = rate_table[\"Facility ID\"].astype('string')\n",
    "rate_table[\"Hospital overall rating\"] = rate_table[\"Hospital overall rating\"].astype('Int64')\n",
    "rate_table['Rating year'] = pd.to_datetime(rate_table['Rating year'], format=\"%Y-%m-%d\")"
   ]
  },
  {
   "cell_type": "code",
   "execution_count": 84,
   "id": "24c6f001",
   "metadata": {},
   "outputs": [
    {
     "data": {
      "text/plain": [
       "Facility ID                        string\n",
       "Hospital overall rating             Int64\n",
       "Rating year                datetime64[ns]\n",
       "dtype: object"
      ]
     },
     "execution_count": 84,
     "metadata": {},
     "output_type": "execute_result"
    }
   ],
   "source": [
    "rate_table.dtypes"
   ]
  },
  {
   "cell_type": "markdown",
   "id": "aa91bb7b",
   "metadata": {},
   "source": [
    "## 3. Load data into psql"
   ]
  },
  {
   "cell_type": "code",
   "execution_count": 85,
   "id": "2ffff0db",
   "metadata": {},
   "outputs": [],
   "source": [
    "conn = psycopg.connect(\n",
    "    host=\"sculptor.stat.cmu.edu\", dbname=\"yicheng6\",\n",
    "    user=\"yicheng6\", password=\"Oor4cah8p\"\n",
    ")\n",
    "cur = conn.cursor()"
   ]
  },
  {
   "cell_type": "code",
   "execution_count": 86,
   "id": "2f33e184",
   "metadata": {},
   "outputs": [],
   "source": [
    "# Container to record insert failed row\n",
    "key = [\"hospital_pk\",\"Hospital overall rating\", \"Rating year\"]\n",
    "df_error = pd.DataFrame(columns=key)"
   ]
  },
  {
   "cell_type": "code",
   "execution_count": 88,
   "id": "4f958775",
   "metadata": {},
   "outputs": [
    {
     "data": {
      "text/plain": [
       "<psycopg.Cursor [COMMAND_OK] [INTRANS] (host=sculptor.stat.cmu.edu database=yicheng6) at 0x7fd4b964dd00>"
      ]
     },
     "execution_count": 88,
     "metadata": {},
     "output_type": "execute_result"
    },
    {
     "ename": "TypeError",
     "evalue": "expected string or bytes-like object",
     "output_type": "error",
     "traceback": [
      "\u001b[0;31m---------------------------------------------------------------------------\u001b[0m",
      "\u001b[0;31mTypeError\u001b[0m                                 Traceback (most recent call last)",
      "Input \u001b[0;32mIn [88]\u001b[0m, in \u001b[0;36m<cell line: 4>\u001b[0;34m()\u001b[0m\n\u001b[1;32m     10\u001b[0m \u001b[38;5;28;01mwith\u001b[39;00m conn\u001b[38;5;241m.\u001b[39mtransaction():  \n\u001b[1;32m     11\u001b[0m     \u001b[38;5;66;03m# now insert  (hospital_pk, rating_year, rating) into the data\u001b[39;00m\n\u001b[1;32m     12\u001b[0m     insert \u001b[38;5;241m=\u001b[39m (\u001b[38;5;124m\"\u001b[39m\u001b[38;5;124mINSERT INTO Rating_Time\u001b[39m\u001b[38;5;124m\"\u001b[39m,\n\u001b[1;32m     13\u001b[0m               \u001b[38;5;124m\"\u001b[39m\u001b[38;5;124mVALUES (\u001b[39m\u001b[38;5;132;01m%s\u001b[39;00m\u001b[38;5;124m, \u001b[39m\u001b[38;5;132;01m%s\u001b[39;00m\u001b[38;5;124m, \u001b[39m\u001b[38;5;132;01m%s\u001b[39;00m\u001b[38;5;124m)\u001b[39m\u001b[38;5;124m\"\u001b[39m)\n\u001b[0;32m---> 14\u001b[0m     \u001b[43mcur\u001b[49m\u001b[38;5;241;43m.\u001b[39;49m\u001b[43mexecute\u001b[49m\u001b[43m(\u001b[49m\u001b[43minsert\u001b[49m\u001b[43m,\u001b[49m\u001b[43m \u001b[49m\u001b[43mrow\u001b[49m\u001b[43m)\u001b[49m\n",
      "File \u001b[0;32m~/opt/anaconda3/lib/python3.8/site-packages/psycopg/cursor.py:721\u001b[0m, in \u001b[0;36mCursor.execute\u001b[0;34m(self, query, params, prepare, binary)\u001b[0m\n\u001b[1;32m    719\u001b[0m \u001b[38;5;28;01mtry\u001b[39;00m:\n\u001b[1;32m    720\u001b[0m     \u001b[38;5;28;01mwith\u001b[39;00m \u001b[38;5;28mself\u001b[39m\u001b[38;5;241m.\u001b[39m_conn\u001b[38;5;241m.\u001b[39mlock:\n\u001b[0;32m--> 721\u001b[0m         \u001b[38;5;28;43mself\u001b[39;49m\u001b[38;5;241;43m.\u001b[39;49m\u001b[43m_conn\u001b[49m\u001b[38;5;241;43m.\u001b[39;49m\u001b[43mwait\u001b[49m\u001b[43m(\u001b[49m\n\u001b[1;32m    722\u001b[0m \u001b[43m            \u001b[49m\u001b[38;5;28;43mself\u001b[39;49m\u001b[38;5;241;43m.\u001b[39;49m\u001b[43m_execute_gen\u001b[49m\u001b[43m(\u001b[49m\u001b[43mquery\u001b[49m\u001b[43m,\u001b[49m\u001b[43m \u001b[49m\u001b[43mparams\u001b[49m\u001b[43m,\u001b[49m\u001b[43m \u001b[49m\u001b[43mprepare\u001b[49m\u001b[38;5;241;43m=\u001b[39;49m\u001b[43mprepare\u001b[49m\u001b[43m,\u001b[49m\u001b[43m \u001b[49m\u001b[43mbinary\u001b[49m\u001b[38;5;241;43m=\u001b[39;49m\u001b[43mbinary\u001b[49m\u001b[43m)\u001b[49m\n\u001b[1;32m    723\u001b[0m \u001b[43m        \u001b[49m\u001b[43m)\u001b[49m\n\u001b[1;32m    724\u001b[0m \u001b[38;5;28;01mexcept\u001b[39;00m e\u001b[38;5;241m.\u001b[39mError \u001b[38;5;28;01mas\u001b[39;00m ex:\n\u001b[1;32m    725\u001b[0m     \u001b[38;5;28;01mraise\u001b[39;00m ex\u001b[38;5;241m.\u001b[39mwith_traceback(\u001b[38;5;28;01mNone\u001b[39;00m)\n",
      "File \u001b[0;32m~/opt/anaconda3/lib/python3.8/site-packages/psycopg/connection.py:956\u001b[0m, in \u001b[0;36mConnection.wait\u001b[0;34m(self, gen, timeout)\u001b[0m\n\u001b[1;32m    949\u001b[0m \u001b[38;5;124;03m\"\"\"\u001b[39;00m\n\u001b[1;32m    950\u001b[0m \u001b[38;5;124;03mConsume a generator operating on the connection.\u001b[39;00m\n\u001b[1;32m    951\u001b[0m \n\u001b[1;32m    952\u001b[0m \u001b[38;5;124;03mThe function must be used on generators that don't change connection\u001b[39;00m\n\u001b[1;32m    953\u001b[0m \u001b[38;5;124;03mfd (i.e. not on connect and reset).\u001b[39;00m\n\u001b[1;32m    954\u001b[0m \u001b[38;5;124;03m\"\"\"\u001b[39;00m\n\u001b[1;32m    955\u001b[0m \u001b[38;5;28;01mtry\u001b[39;00m:\n\u001b[0;32m--> 956\u001b[0m     \u001b[38;5;28;01mreturn\u001b[39;00m \u001b[43mwaiting\u001b[49m\u001b[38;5;241;43m.\u001b[39;49m\u001b[43mwait\u001b[49m\u001b[43m(\u001b[49m\u001b[43mgen\u001b[49m\u001b[43m,\u001b[49m\u001b[43m \u001b[49m\u001b[38;5;28;43mself\u001b[39;49m\u001b[38;5;241;43m.\u001b[39;49m\u001b[43mpgconn\u001b[49m\u001b[38;5;241;43m.\u001b[39;49m\u001b[43msocket\u001b[49m\u001b[43m,\u001b[49m\u001b[43m \u001b[49m\u001b[43mtimeout\u001b[49m\u001b[38;5;241;43m=\u001b[39;49m\u001b[43mtimeout\u001b[49m\u001b[43m)\u001b[49m\n\u001b[1;32m    957\u001b[0m \u001b[38;5;28;01mexcept\u001b[39;00m \u001b[38;5;167;01mKeyboardInterrupt\u001b[39;00m:\n\u001b[1;32m    958\u001b[0m     \u001b[38;5;66;03m# On Ctrl-C, try to cancel the query in the server, otherwise\u001b[39;00m\n\u001b[1;32m    959\u001b[0m     \u001b[38;5;66;03m# the connection will remain stuck in ACTIVE state.\u001b[39;00m\n\u001b[1;32m    960\u001b[0m     c \u001b[38;5;241m=\u001b[39m \u001b[38;5;28mself\u001b[39m\u001b[38;5;241m.\u001b[39mpgconn\u001b[38;5;241m.\u001b[39mget_cancel()\n",
      "File \u001b[0;32m~/opt/anaconda3/lib/python3.8/site-packages/psycopg/waiting.py:51\u001b[0m, in \u001b[0;36mwait_selector\u001b[0;34m(gen, fileno, timeout)\u001b[0m\n\u001b[1;32m     36\u001b[0m \u001b[38;5;124;03m\"\"\"\u001b[39;00m\n\u001b[1;32m     37\u001b[0m \u001b[38;5;124;03mWait for a generator using the best strategy available.\u001b[39;00m\n\u001b[1;32m     38\u001b[0m \n\u001b[0;32m   (...)\u001b[0m\n\u001b[1;32m     48\u001b[0m \u001b[38;5;124;03mblock. Once ready again send the ready state back to *gen*.\u001b[39;00m\n\u001b[1;32m     49\u001b[0m \u001b[38;5;124;03m\"\"\"\u001b[39;00m\n\u001b[1;32m     50\u001b[0m \u001b[38;5;28;01mtry\u001b[39;00m:\n\u001b[0;32m---> 51\u001b[0m     s \u001b[38;5;241m=\u001b[39m \u001b[38;5;28;43mnext\u001b[39;49m\u001b[43m(\u001b[49m\u001b[43mgen\u001b[49m\u001b[43m)\u001b[49m\n\u001b[1;32m     52\u001b[0m     \u001b[38;5;28;01mwith\u001b[39;00m DefaultSelector() \u001b[38;5;28;01mas\u001b[39;00m sel:\n\u001b[1;32m     53\u001b[0m         \u001b[38;5;28;01mwhile\u001b[39;00m \u001b[38;5;28;01mTrue\u001b[39;00m:\n",
      "File \u001b[0;32m~/opt/anaconda3/lib/python3.8/site-packages/psycopg/cursor.py:195\u001b[0m, in \u001b[0;36mBaseCursor._execute_gen\u001b[0;34m(self, query, params, prepare, binary)\u001b[0m\n\u001b[1;32m    193\u001b[0m \u001b[38;5;124;03m\"\"\"Generator implementing `Cursor.execute()`.\"\"\"\u001b[39;00m\n\u001b[1;32m    194\u001b[0m \u001b[38;5;28;01myield from\u001b[39;00m \u001b[38;5;28mself\u001b[39m\u001b[38;5;241m.\u001b[39m_start_query(query)\n\u001b[0;32m--> 195\u001b[0m pgq \u001b[38;5;241m=\u001b[39m \u001b[38;5;28;43mself\u001b[39;49m\u001b[38;5;241;43m.\u001b[39;49m\u001b[43m_convert_query\u001b[49m\u001b[43m(\u001b[49m\u001b[43mquery\u001b[49m\u001b[43m,\u001b[49m\u001b[43m \u001b[49m\u001b[43mparams\u001b[49m\u001b[43m)\u001b[49m\n\u001b[1;32m    196\u001b[0m results \u001b[38;5;241m=\u001b[39m \u001b[38;5;28;01myield from\u001b[39;00m \u001b[38;5;28mself\u001b[39m\u001b[38;5;241m.\u001b[39m_maybe_prepare_gen(\n\u001b[1;32m    197\u001b[0m     pgq, prepare\u001b[38;5;241m=\u001b[39mprepare, binary\u001b[38;5;241m=\u001b[39mbinary\n\u001b[1;32m    198\u001b[0m )\n\u001b[1;32m    199\u001b[0m \u001b[38;5;28;01mif\u001b[39;00m \u001b[38;5;28mself\u001b[39m\u001b[38;5;241m.\u001b[39m_conn\u001b[38;5;241m.\u001b[39m_pipeline:\n",
      "File \u001b[0;32m~/opt/anaconda3/lib/python3.8/site-packages/psycopg/cursor.py:469\u001b[0m, in \u001b[0;36mBaseCursor._convert_query\u001b[0;34m(self, query, params)\u001b[0m\n\u001b[1;32m    465\u001b[0m \u001b[38;5;28;01mdef\u001b[39;00m \u001b[38;5;21m_convert_query\u001b[39m(\n\u001b[1;32m    466\u001b[0m     \u001b[38;5;28mself\u001b[39m, query: Query, params: Optional[Params] \u001b[38;5;241m=\u001b[39m \u001b[38;5;28;01mNone\u001b[39;00m\n\u001b[1;32m    467\u001b[0m ) \u001b[38;5;241m-\u001b[39m\u001b[38;5;241m>\u001b[39m PostgresQuery:\n\u001b[1;32m    468\u001b[0m     pgq \u001b[38;5;241m=\u001b[39m PostgresQuery(\u001b[38;5;28mself\u001b[39m\u001b[38;5;241m.\u001b[39m_tx)\n\u001b[0;32m--> 469\u001b[0m     \u001b[43mpgq\u001b[49m\u001b[38;5;241;43m.\u001b[39;49m\u001b[43mconvert\u001b[49m\u001b[43m(\u001b[49m\u001b[43mquery\u001b[49m\u001b[43m,\u001b[49m\u001b[43m \u001b[49m\u001b[43mparams\u001b[49m\u001b[43m)\u001b[49m\n\u001b[1;32m    470\u001b[0m     \u001b[38;5;28;01mreturn\u001b[39;00m pgq\n",
      "File \u001b[0;32m~/opt/anaconda3/lib/python3.8/site-packages/psycopg/_queries.py:75\u001b[0m, in \u001b[0;36mPostgresQuery.convert\u001b[0;34m(self, query, vars)\u001b[0m\n\u001b[1;32m     67\u001b[0m     bquery \u001b[38;5;241m=\u001b[39m query\n\u001b[1;32m     69\u001b[0m \u001b[38;5;28;01mif\u001b[39;00m \u001b[38;5;28mvars\u001b[39m \u001b[38;5;129;01mis\u001b[39;00m \u001b[38;5;129;01mnot\u001b[39;00m \u001b[38;5;28;01mNone\u001b[39;00m:\n\u001b[1;32m     70\u001b[0m     (\n\u001b[1;32m     71\u001b[0m         \u001b[38;5;28mself\u001b[39m\u001b[38;5;241m.\u001b[39mquery,\n\u001b[1;32m     72\u001b[0m         \u001b[38;5;28mself\u001b[39m\u001b[38;5;241m.\u001b[39m_want_formats,\n\u001b[1;32m     73\u001b[0m         \u001b[38;5;28mself\u001b[39m\u001b[38;5;241m.\u001b[39m_order,\n\u001b[1;32m     74\u001b[0m         \u001b[38;5;28mself\u001b[39m\u001b[38;5;241m.\u001b[39m_parts,\n\u001b[0;32m---> 75\u001b[0m     ) \u001b[38;5;241m=\u001b[39m \u001b[43m_query2pg\u001b[49m\u001b[43m(\u001b[49m\u001b[43mbquery\u001b[49m\u001b[43m,\u001b[49m\u001b[43m \u001b[49m\u001b[38;5;28;43mself\u001b[39;49m\u001b[38;5;241;43m.\u001b[39;49m\u001b[43m_encoding\u001b[49m\u001b[43m)\u001b[49m\n\u001b[1;32m     76\u001b[0m \u001b[38;5;28;01melse\u001b[39;00m:\n\u001b[1;32m     77\u001b[0m     \u001b[38;5;28mself\u001b[39m\u001b[38;5;241m.\u001b[39mquery \u001b[38;5;241m=\u001b[39m bquery\n",
      "File \u001b[0;32m~/opt/anaconda3/lib/python3.8/site-packages/psycopg/_queries.py:161\u001b[0m, in \u001b[0;36m_query2pg\u001b[0;34m(query, encoding)\u001b[0m\n\u001b[1;32m    147\u001b[0m \u001b[38;5;129m@lru_cache\u001b[39m()\n\u001b[1;32m    148\u001b[0m \u001b[38;5;28;01mdef\u001b[39;00m \u001b[38;5;21m_query2pg\u001b[39m(\n\u001b[1;32m    149\u001b[0m     query: \u001b[38;5;28mbytes\u001b[39m, encoding: \u001b[38;5;28mstr\u001b[39m\n\u001b[1;32m    150\u001b[0m ) \u001b[38;5;241m-\u001b[39m\u001b[38;5;241m>\u001b[39m Tuple[\u001b[38;5;28mbytes\u001b[39m, List[PyFormat], Optional[List[\u001b[38;5;28mstr\u001b[39m]], List[QueryPart]]:\n\u001b[1;32m    151\u001b[0m     \u001b[38;5;124;03m\"\"\"\u001b[39;00m\n\u001b[1;32m    152\u001b[0m \u001b[38;5;124;03m    Convert Python query and params into something Postgres understands.\u001b[39;00m\n\u001b[1;32m    153\u001b[0m \n\u001b[0;32m   (...)\u001b[0m\n\u001b[1;32m    159\u001b[0m \u001b[38;5;124;03m      ``parts`` (splits of queries and placeholders).\u001b[39;00m\n\u001b[1;32m    160\u001b[0m \u001b[38;5;124;03m    \"\"\"\u001b[39;00m\n\u001b[0;32m--> 161\u001b[0m     parts \u001b[38;5;241m=\u001b[39m \u001b[43m_split_query\u001b[49m\u001b[43m(\u001b[49m\u001b[43mquery\u001b[49m\u001b[43m,\u001b[49m\u001b[43m \u001b[49m\u001b[43mencoding\u001b[49m\u001b[43m)\u001b[49m\n\u001b[1;32m    162\u001b[0m     order: Optional[List[\u001b[38;5;28mstr\u001b[39m]] \u001b[38;5;241m=\u001b[39m \u001b[38;5;28;01mNone\u001b[39;00m\n\u001b[1;32m    163\u001b[0m     chunks: List[\u001b[38;5;28mbytes\u001b[39m] \u001b[38;5;241m=\u001b[39m []\n",
      "File \u001b[0;32m~/opt/anaconda3/lib/python3.8/site-packages/psycopg/_queries.py:305\u001b[0m, in \u001b[0;36m_split_query\u001b[0;34m(query, encoding, collapse_double_percent)\u001b[0m\n\u001b[1;32m    303\u001b[0m \u001b[38;5;66;03m# pairs [(fragment, match], with the last match None\u001b[39;00m\n\u001b[1;32m    304\u001b[0m m \u001b[38;5;241m=\u001b[39m \u001b[38;5;28;01mNone\u001b[39;00m\n\u001b[0;32m--> 305\u001b[0m \u001b[38;5;28;01mfor\u001b[39;00m m \u001b[38;5;129;01min\u001b[39;00m \u001b[43m_re_placeholder\u001b[49m\u001b[38;5;241;43m.\u001b[39;49m\u001b[43mfinditer\u001b[49m\u001b[43m(\u001b[49m\u001b[43mquery\u001b[49m\u001b[43m)\u001b[49m:\n\u001b[1;32m    306\u001b[0m     pre \u001b[38;5;241m=\u001b[39m query[cur : m\u001b[38;5;241m.\u001b[39mspan(\u001b[38;5;241m0\u001b[39m)[\u001b[38;5;241m0\u001b[39m]]\n\u001b[1;32m    307\u001b[0m     parts\u001b[38;5;241m.\u001b[39mappend((pre, m))\n",
      "\u001b[0;31mTypeError\u001b[0m: expected string or bytes-like object"
     ]
    }
   ],
   "source": [
    "num_rows_inserted = 0\n",
    "\n",
    "# make a new transaction\n",
    "with conn.transaction():\n",
    "    \n",
    "    for index, row in rate_table.iterrows():\n",
    "        #try:\n",
    "            # make a new SAVEPOINT -- like a save in a video game\n",
    "            cur.execute(\"SAVEPOINT save1\")\n",
    "            with conn.transaction():  \n",
    "                # now insert  (hospital_pk, rating_year, rating) into the data\n",
    "                insert = (\"INSERT INTO Rating_Time\",\n",
    "                          \"VALUES (%s, %s, %s)\")\n",
    "                cur.execute(insert, tuple(row))\n",
    "#         except Exception as e:\n",
    "#             # if an exception/error happens in this block, Postgres goes back to\n",
    "#             # the last savepoint upon exiting the `with` block\n",
    "#             print(\"insert failed in row \" + str(index))\n",
    "#             df_error = pd.concat([df_error, row])\n",
    "\n",
    "#             # add additional logging, error handling here\n",
    "#         else:\n",
    "#             # no exception happened, so we continue without reverting the savepoint\n",
    "#             num_rows_inserted += 1\n",
    "            \n",
    "#     print(num_rows_inserted)\n",
    "#     df_error.to_csv(\"Error_row.csv\", index = False)\n",
    "\n",
    "# # now we commit the entire transaction\n",
    "# # conn.commit()\n"
   ]
  },
  {
   "cell_type": "code",
   "execution_count": null,
   "id": "683dd6f9",
   "metadata": {},
   "outputs": [],
   "source": []
  }
 ],
 "metadata": {
  "kernelspec": {
   "display_name": "Python 3 (ipykernel)",
   "language": "python",
   "name": "python3"
  },
  "language_info": {
   "codemirror_mode": {
    "name": "ipython",
    "version": 3
   },
   "file_extension": ".py",
   "mimetype": "text/x-python",
   "name": "python",
   "nbconvert_exporter": "python",
   "pygments_lexer": "ipython3",
   "version": "3.8.5"
  }
 },
 "nbformat": 4,
 "nbformat_minor": 5
}
